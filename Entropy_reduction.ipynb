{
 "cells": [
  {
   "cell_type": "markdown",
   "metadata": {},
   "source": [
    "## Энтропия"
   ]
  },
  {
   "cell_type": "markdown",
   "metadata": {},
   "source": [
    "$$E = -\\sum_{i=1}^n p_i*log_{2}p_i$$"
   ]
  },
  {
   "cell_type": "markdown",
   "metadata": {},
   "source": [
    "для предыдущей задачи: $E = -\\sum_{i=1}^n 1/2*log_{2}1/2 -\\sum_{i=1}^n 1/2*log_{2}1/2 = -\\sum_{i=1}^n *log_{2}1/2 = 1$"
   ]
  },
  {
   "cell_type": "markdown",
   "metadata": {},
   "source": [
    "если все значения одинаковы: $E = -1 * log_{2}1 - 0 * log_{2}0 = 1*0 - 0*1 = 0$"
   ]
  },
  {
   "cell_type": "code",
   "execution_count": 1,
   "metadata": {},
   "outputs": [
    {
     "data": {
      "text/plain": [
       "-0.0"
      ]
     },
     "execution_count": 1,
     "metadata": {},
     "output_type": "execute_result"
    }
   ],
   "source": [
    "import math\n",
    "p1 = 1\n",
    "p2 = 1\n",
    "E = -(p1*math.log(p1,2) + p2*math.log(p2,2))\n",
    "E"
   ]
  },
  {
   "cell_type": "markdown",
   "metadata": {},
   "source": [
    "## Information Gain"
   ]
  },
  {
   "cell_type": "markdown",
   "metadata": {},
   "source": [
    "$$IG = E(Y) - E(Y|X)$$\n",
    "$n_0, n_1$ - выборка при x = 0, x = 1\n",
    "\n",
    "$n_0 + n_1 = N$\n",
    "\n",
    "$E_0, E_1$ - энтропия x = 0, x = 1\n",
    "$$E(Y|X) = n_0/N * E_0 +  n_1/N * E_1 $$"
   ]
  },
  {
   "cell_type": "code",
   "execution_count": 2,
   "metadata": {},
   "outputs": [
    {
     "data": {
      "text/plain": [
       "1.0"
      ]
     },
     "execution_count": 2,
     "metadata": {},
     "output_type": "execute_result"
    }
   ],
   "source": [
    "E0 = 0\n",
    "E1 = 0\n",
    "n0 = 1\n",
    "n1 = 1\n",
    "N = n0 + n1\n",
    "IG = 1 - (n0*E0 + n1*E1)/N\n",
    "IG"
   ]
  }
 ],
 "metadata": {
  "kernelspec": {
   "display_name": "Python 3",
   "language": "python",
   "name": "python3"
  },
  "language_info": {
   "codemirror_mode": {
    "name": "ipython",
    "version": 3
   },
   "file_extension": ".py",
   "mimetype": "text/x-python",
   "name": "python",
   "nbconvert_exporter": "python",
   "pygments_lexer": "ipython3",
   "version": "3.7.1"
  }
 },
 "nbformat": 4,
 "nbformat_minor": 2
}
